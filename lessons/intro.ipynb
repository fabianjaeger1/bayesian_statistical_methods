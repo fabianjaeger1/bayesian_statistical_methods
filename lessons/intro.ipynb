{
 "cells": [
  {
   "attachments": {},
   "cell_type": "markdown",
   "metadata": {
    "slideshow": {
     "slide_type": "slide"
    }
   },
   "source": [
    "# Bayesian Statistical Methods and Data Analysis"
   ]
  },
  {
   "attachments": {},
   "cell_type": "markdown",
   "metadata": {
    "slideshow": {
     "slide_type": "subslide"
    }
   },
   "source": [
    "- Introductions \n",
    "- Logistics\n",
    "- Structure of the course\n",
    "- Intro to Python and JupyterHub"
   ]
  },
  {
   "attachments": {},
   "cell_type": "markdown",
   "metadata": {
    "slideshow": {
     "slide_type": "slide"
    }
   },
   "source": [
    "## Introductions"
   ]
  },
  {
   "attachments": {},
   "cell_type": "markdown",
   "metadata": {
    "slideshow": {
     "slide_type": "slide"
    }
   },
   "source": [
    "## Logistics\n",
    "\n",
    "Slides and notebooks available on Moodle and github.\n",
    "\n",
    "The grade is based on a small research project & report.\n",
    "- The project should either cover a data analysis or the theory behind a statistical tool.\n",
    "- Format: like a journal article (specifically a Letter):\n",
    "    - Professional presentation, e.g. using LaTeX, nice plots\n",
    "    - Proper references and appropriate structure\n",
    "    - Page limit of 5\n",
    "- Group work is allowed. Conditions:\n",
    "    - Everyone in the group gets the same grade\n",
    "    - Everyone needs to contribute to both the report and the analysis\n",
    "    - The report needs to include a contribution statement that briefly describes what each member has done\n",
    "\n",
    "Deadline is 2023/07/21."
   ]
  },
  {
   "attachments": {},
   "cell_type": "markdown",
   "metadata": {
    "slideshow": {
     "slide_type": "slide"
    }
   },
   "source": [
    "## Structure of the course\n",
    "\n",
    "- Lesson, work on exercises, discuss solutions\n",
    "- To get most out of the course, have a look at the material and exercises **before** the lecture\n"
   ]
  },
  {
   "attachments": {},
   "cell_type": "markdown",
   "metadata": {
    "slideshow": {
     "slide_type": "fragment"
    }
   },
   "source": [
    "- Work in teams\n",
    "- Clicker"
   ]
  },
  {
   "attachments": {},
   "cell_type": "markdown",
   "metadata": {
    "slideshow": {
     "slide_type": "fragment"
    }
   },
   "source": [
    "- Feedback is always welcome\n",
    "    - EduApp: Course channel \"Feedback\"\n",
    "    - Anonymous Google form (link on Moodle)\n",
    "    - Email\n",
    "    - In-person\n",
    "    - Official course evaluation on the last day of the course: Friday 23.06 at 17:00"
   ]
  },
  {
   "attachments": {},
   "cell_type": "markdown",
   "metadata": {
    "slideshow": {
     "slide_type": "slide"
    }
   },
   "source": [
    "## What is this course about?"
   ]
  },
  {
   "attachments": {},
   "cell_type": "markdown",
   "metadata": {
    "slideshow": {
     "slide_type": "subslide"
    }
   },
   "source": [
    "### Statistical inference\n",
    "\n",
    "Statistical inference is concerned with drawing conclusions from data about quantities that are not observed.\n",
    "\n",
    "### Bayesian data analysis\n",
    "\n",
    "Bayesian methods use probabilistic models to describe the observable and unobservable quantities of a problem.\n",
    "By conditioning the probabilistic model on the observed data, we then obtain a conditional probability distribution of the unobserved quantity of interest, given the observed data: the posterior distribution.\n",
    "\n",
    "### Computational statistics\n",
    "\n",
    "Outside of simple models and special cases, our models will likely rely on numerical methods. \n",
    "This is especially the case in Bayesian data analysis, where drawing samples from complex distributions is often a key part of the analysis."
   ]
  },
  {
   "attachments": {},
   "cell_type": "markdown",
   "metadata": {
    "slideshow": {
     "slide_type": "slide"
    }
   },
   "source": [
    "## Python, Jupyter notebooks, and JupyterHub\n",
    "\n",
    "The course focusses on computational methods to do data analysis with Bayesian statistics.\n",
    "\n",
    "We will be using Python. There are other options, such as R and Julia, but once the models become more complex, Python has a much larger ecosystem available. \n",
    "For example astrophysics software or deep learning libraries.\n",
    "\n",
    "A key part of a statistical analysis is understanding your data.\n",
    "Data exploration and visualisation is made easy by using Jupyter notebooks.\n",
    "\n",
    "A JupyterLab instance is provided by ETH for everyone in the course. \n",
    "This is an online development environment and comes with all the necessary packages installed. \n",
    "\n",
    "You are free to use your own setup as well."
   ]
  },
  {
   "attachments": {},
   "cell_type": "markdown",
   "metadata": {
    "slideshow": {
     "slide_type": "subslide"
    }
   },
   "source": [
    "### JupyterLab\n",
    "\n",
    "Image moodle\n",
    "\n",
    "Image JupyterLab landing\n",
    "\n",
    "Image JupyterLab launcher"
   ]
  },
  {
   "attachments": {},
   "cell_type": "markdown",
   "metadata": {
    "slideshow": {
     "slide_type": "slide"
    }
   },
   "source": [
    "### Exercise\n",
    "\n",
    "1. Create a new Python notebook"
   ]
  },
  {
   "attachments": {},
   "cell_type": "markdown",
   "metadata": {
    "slideshow": {
     "slide_type": "fragment"
    }
   },
   "source": [
    "2. Obtain an estimate the value of $\\pi$\n",
    "    - From the definition in `numpy`\n",
    "    - Using the series $\\pi = 4 \\sum_{k=0}^\\infty \\frac{(-1)^{k}}{2k + 1}$\n",
    "    - Using a Monte-Carlo estimate: \n",
    "        1. Sample $n$ points uniformly on the unit square using `numpy.random.uniform`\n",
    "        2. Count the number $n_r$ of points with distance $r = \\sqrt{x^2+y^2} \\leq 1$\n",
    "        3. Compare the fraction $\\frac{n_r}{n}$ to the ratio of the area of a quadrant of a disc to the area of the square to derive an estimate of $\\pi$\n"
   ]
  },
  {
   "attachments": {},
   "cell_type": "markdown",
   "metadata": {
    "slideshow": {
     "slide_type": "fragment"
    }
   },
   "source": [
    "3. Create plots showing the estimated value as the number of terms in the series expansion and the number of Monte-Carlo samples is varied"
   ]
  }
 ],
 "metadata": {
  "language_info": {
   "name": "python"
  },
  "orig_nbformat": 4
 },
 "nbformat": 4,
 "nbformat_minor": 2
}
