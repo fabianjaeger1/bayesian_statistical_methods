{
 "cells": [
  {
   "attachments": {},
   "cell_type": "markdown",
   "metadata": {},
   "source": [
    "# Bayesian Statistical Methods and Data Analysis\n",
    "\n",
    "## About this course\n",
    "\n",
    "## Using JupyterHub\n",
    "\n",
    "## On your own device\n",
    "\n",
    "Use anaconda. I recommend [mamba](https://mamba.readthedocs.io/en/latest/installation.html#install-script)"
   ]
  },
  {
   "attachments": {},
   "cell_type": "markdown",
   "metadata": {},
   "source": []
  }
 ],
 "metadata": {
  "language_info": {
   "name": "python"
  },
  "orig_nbformat": 4
 },
 "nbformat": 4,
 "nbformat_minor": 2
}
