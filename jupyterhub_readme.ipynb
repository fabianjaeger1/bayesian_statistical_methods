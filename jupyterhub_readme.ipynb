{
 "cells": [
  {
   "cell_type": "code",
   "execution_count": 2,
   "metadata": {
    "jupyter": {
     "source_hidden": true
    },
    "tags": []
   },
   "outputs": [
    {
     "data": {
      "text/markdown": [
       "# Bayesian Statistical Methods and Data Analysis\n",
       "\n",
       "## About this course\n",
       "\n",
       "The course focusses mostly on showing how to use statistical tools, rather than giving a detailed introduction to probability and statistics. There are many great books and courses on this topic, which I encourage you to look at before the lectures. The resources listed here all are available online, either directly or through the ETH library.\n",
       "\n",
       "- Weighing the odds, a course in probability and statistics, Williams, 2001 [ETH library](https://eth.swisscovery.slsp.ch/permalink/41SLSP_ETH/lshl64/alma99117170967205503). A good introduction to probability theory and statistics with a high level of mathematical rigour.\n",
       "- Bayesian Data Analysis, Gelman, 2013 [ETH library](https://eth.swisscovery.slsp.ch/permalink/41SLSP_ETH/lshl64/alma99117222397805503). The title says it all.\n",
       "- Information Theory, Inference, and Learning Algorithms, MacKay, 2003 [Link](http://www.inference.org.uk/itprnn/book.pdf). Heavy on the information theory but also covers inference methods nicely. The exercises come with solutions.\n",
       "- Practical Statistics for Astronomers, Wall, 2012 [ETH library](https://eth.swisscovery.slsp.ch/permalink/41SLSP_ETH/lshl64/alma99117170816205503). Short, with a focus on practical applications. Many of the examples and exercises are from astrophysics but are generally applicable, especially for the physical sciences, which often come a bit short in general statistics textbooks. Solutions and data sets are [available online](https://www.astro.ubc.ca/people/jvw/ASTROSTATS/pracstats_web_ed2.html).\n",
       "\n",
       "## This repository\n",
       "\n",
       "- `lessons`: The lesson notebooks, which are used to create the slides\n",
       "- `slides`: Slides for the lessons\n",
       "- `exercise_solutions`: Solutions to selected exercises\n",
       "- `course_tools`: Tools for creating this course, such as a script to generate the slides from the notebooks and a python package with helper functions.\n",
       "\n",
       "## Using JupyterLab\n",
       "\n",
       "If you are seeing this notebook in the course JupyterLab, you are probably in the directory with the course materials.\n",
       "\n",
       "<!-- ![](jupyterlab_landing.png) -->\n",
       "<img src=\"assets/jupyterlab_landing.png\" height=\"200\">\n",
       "\n",
       "## On your own device\n",
       "\n",
       "Use anaconda. I recommend [mamba](https://mamba.readthedocs.io/en/latest/installation.html#install-script)"
      ],
      "text/plain": [
       "<IPython.core.display.Markdown object>"
      ]
     },
     "metadata": {},
     "output_type": "display_data"
    }
   ],
   "source": [
    "# Show content of README.md, since JupyterLab defaults to showing markdown source code instead of the rendered output\n",
    "from IPython.display import Markdown, display\n",
    "with open(\"README.md\", \"r\") as f:\n",
    "    display(Markdown(f.read()))"
   ]
  },
  {
   "cell_type": "markdown",
   "metadata": {},
   "source": []
  }
 ],
 "metadata": {
  "kernelspec": {
   "display_name": "Python 3 (ipykernel)",
   "language": "python",
   "name": "python3"
  },
  "language_info": {
   "codemirror_mode": {
    "name": "ipython",
    "version": 3
   },
   "file_extension": ".py",
   "mimetype": "text/x-python",
   "name": "python",
   "nbconvert_exporter": "python",
   "pygments_lexer": "ipython3",
   "version": "3.10.8"
  }
 },
 "nbformat": 4,
 "nbformat_minor": 4
}
