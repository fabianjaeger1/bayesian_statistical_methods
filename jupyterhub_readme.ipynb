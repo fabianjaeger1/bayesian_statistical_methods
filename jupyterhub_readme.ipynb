{
 "cells": [
  {
   "cell_type": "markdown",
   "metadata": {},
   "source": [
    "# Bayesian Statistical Methods and Data Analysis\n",
    "\n",
    "## About this course\n",
    "\n",
    "### Literature and other resources\n",
    "The course focusses mostly on showing how to use statistical tools, rather than giving a detailed introduction to the background probability and statistics. There are many great books and courses on this topic, which I encourage you to look at before the lectures. The resources listed here all are available online, either directly or through the ETH library.\n",
    "\n",
    "- Weighing the odds, a course in probability and statistics, Williams, 2001 [ETH library](https://eth.swisscovery.slsp.ch/permalink/41SLSP_ETH/lshl64/alma99117170967205503). A good introduction to probability theory and statistics with a high level of mathematical rigour.\n",
    "- Bayesian Data Analysis, Gelman, 2013 [ETH library](https://eth.swisscovery.slsp.ch/permalink/41SLSP_ETH/lshl64/alma99117222397805503)\n",
    "- Information Theory, Inference, and Learning Algorithms, MacKay, 2003 [Link](http://www.inference.org.uk/itprnn/book.pdf)\n",
    "- Practical Statistics for Astronomers, Wall, 2012 [ETH library](https://eth.swisscovery.slsp.ch/permalink/41SLSP_ETH/lshl64/alma99117170816205503)\n",
    "\n",
    "\n",
    "## Using JupyterHub\n",
    "\n",
    "## On your own device\n",
    "\n",
    "Use anaconda. I recommend [mamba](https://mamba.readthedocs.io/en/latest/installation.html#install-script)"
   ]
  },
  {
   "cell_type": "markdown",
   "metadata": {},
   "source": []
  }
 ],
 "metadata": {
  "kernelspec": {
   "display_name": "Python 3 (ipykernel)",
   "language": "python",
   "name": "python3"
  },
  "language_info": {
   "codemirror_mode": {
    "name": "ipython",
    "version": 3
   },
   "file_extension": ".py",
   "mimetype": "text/x-python",
   "name": "python",
   "nbconvert_exporter": "python",
   "pygments_lexer": "ipython3",
   "version": "3.10.8"
  }
 },
 "nbformat": 4,
 "nbformat_minor": 4
}
